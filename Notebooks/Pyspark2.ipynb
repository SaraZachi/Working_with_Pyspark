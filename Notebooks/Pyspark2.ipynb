{
  "nbformat": 4,
  "nbformat_minor": 0,
  "metadata": {
    "colab": {
      "name": "Pyspark2.ipynb",
      "provenance": [],
      "collapsed_sections": [],
      "authorship_tag": "ABX9TyOb7sjn32leSuNJy8WfTSpE",
      "include_colab_link": true
    },
    "kernelspec": {
      "name": "python3",
      "display_name": "Python 3"
    },
    "language_info": {
      "name": "python"
    }
  },
  "cells": [
    {
      "cell_type": "markdown",
      "metadata": {
        "id": "view-in-github",
        "colab_type": "text"
      },
      "source": [
        "<a href=\"https://colab.research.google.com/github/SaraZachi/Working_with_Pyspark/blob/main/Notebooks/Pyspark2.ipynb\" target=\"_parent\"><img src=\"https://colab.research.google.com/assets/colab-badge.svg\" alt=\"Open In Colab\"/></a>"
      ]
    },
    {
      "cell_type": "code",
      "metadata": {
        "colab": {
          "base_uri": "https://localhost:8080/"
        },
        "id": "xLxu1dKuFVH_",
        "outputId": "09614973-f9b6-4b4e-e2b3-54f83eb651b2"
      },
      "source": [
        "!pip install pyspark"
      ],
      "execution_count": null,
      "outputs": [
        {
          "output_type": "stream",
          "name": "stdout",
          "text": [
            "Requirement already satisfied: pyspark in /usr/local/lib/python3.7/dist-packages (3.1.2)\n",
            "Requirement already satisfied: py4j==0.10.9 in /usr/local/lib/python3.7/dist-packages (from pyspark) (0.10.9)\n"
          ]
        }
      ]
    },
    {
      "cell_type": "code",
      "metadata": {
        "id": "2Dw_w-j3DnpY"
      },
      "source": [
        "from pyspark.sql import SparkSession"
      ],
      "execution_count": null,
      "outputs": []
    },
    {
      "cell_type": "code",
      "metadata": {
        "colab": {
          "base_uri": "https://localhost:8080/",
          "height": 216
        },
        "id": "QrsTK_fHFPZg",
        "outputId": "98946f3a-8249-4125-c45f-953f62fb77b2"
      },
      "source": [
        "# Starting Pyspark session => setting up\n",
        "spark=SparkSession.builder.appName('DataFrame').getOrCreate()\n",
        "spark"
      ],
      "execution_count": null,
      "outputs": [
        {
          "output_type": "execute_result",
          "data": {
            "text/html": [
              "\n",
              "            <div>\n",
              "                <p><b>SparkSession - in-memory</b></p>\n",
              "                \n",
              "        <div>\n",
              "            <p><b>SparkContext</b></p>\n",
              "\n",
              "            <p><a href=\"http://920c120e1185:4040\">Spark UI</a></p>\n",
              "\n",
              "            <dl>\n",
              "              <dt>Version</dt>\n",
              "                <dd><code>v3.1.2</code></dd>\n",
              "              <dt>Master</dt>\n",
              "                <dd><code>local[*]</code></dd>\n",
              "              <dt>AppName</dt>\n",
              "                <dd><code>DataFrame</code></dd>\n",
              "            </dl>\n",
              "        </div>\n",
              "        \n",
              "            </div>\n",
              "        "
            ],
            "text/plain": [
              "<pyspark.sql.session.SparkSession at 0x7f7d1211e2d0>"
            ]
          },
          "metadata": {},
          "execution_count": 14
        }
      ]
    },
    {
      "cell_type": "markdown",
      "metadata": {
        "id": "rhz69AJdLvsA"
      },
      "source": [
        "Without 'inferSchema=True', pyspark will determine every information within a column as a string. Therefore, when we 'printSchema', for each column the description will be 'string'."
      ]
    },
    {
      "cell_type": "markdown",
      "metadata": {
        "id": "y350snGnMeph"
      },
      "source": [
        "* integer (int): whole number\n",
        "* string: character sequences (ex.: words, phrases, etc.)"
      ]
    },
    {
      "cell_type": "code",
      "metadata": {
        "colab": {
          "base_uri": "https://localhost:8080/"
        },
        "id": "8iQshjcXLYCf",
        "outputId": "1bae8678-7159-44f8-f98e-5455e90bf608"
      },
      "source": [
        "type(df_pyspark)"
      ],
      "execution_count": null,
      "outputs": [
        {
          "output_type": "execute_result",
          "data": {
            "text/plain": [
              "pyspark.sql.dataframe.DataFrame"
            ]
          },
          "metadata": {},
          "execution_count": 27
        }
      ]
    },
    {
      "cell_type": "code",
      "metadata": {
        "colab": {
          "base_uri": "https://localhost:8080/"
        },
        "id": "x6WYR0G-0hBD",
        "outputId": "96c986cb-b9b0-4960-d595-f48f7a6b5db1"
      },
      "source": [
        "# read data set\n",
        "df_pyspark = spark.read.option('delimiter', ';').csv('/content/test2.csv', header=False, inferSchema=True)\n",
        "df_pyspark.show()"
      ],
      "execution_count": null,
      "outputs": [
        {
          "output_type": "stream",
          "name": "stdout",
          "text": [
            "+-----+---+----------+\n",
            "|  _c0|_c1|       _c2|\n",
            "+-----+---+----------+\n",
            "| Name|Age|Experience|\n",
            "|Chris| 30|        10|\n",
            "|  Sam| 31|         8|\n",
            "|  Dan| 29|         4|\n",
            "+-----+---+----------+\n",
            "\n"
          ]
        }
      ]
    },
    {
      "cell_type": "code",
      "metadata": {
        "colab": {
          "base_uri": "https://localhost:8080/"
        },
        "id": "DoC2etNv1lVl",
        "outputId": "4852883f-6c08-4bc8-cd83-499dece8e16c"
      },
      "source": [
        "df_pyspark.printSchema()"
      ],
      "execution_count": null,
      "outputs": [
        {
          "output_type": "stream",
          "name": "stdout",
          "text": [
            "root\n",
            " |-- Name: string (nullable = true)\n",
            " |-- Age: integer (nullable = true)\n",
            " |-- Experience: integer (nullable = true)\n",
            "\n"
          ]
        }
      ]
    },
    {
      "cell_type": "code",
      "metadata": {
        "colab": {
          "base_uri": "https://localhost:8080/"
        },
        "id": "Q73U7QCoA8Co",
        "outputId": "6af1084f-cc70-47ed-fb13-715529cf7ffa"
      },
      "source": [
        "type(df_pyspark)"
      ],
      "execution_count": null,
      "outputs": [
        {
          "output_type": "execute_result",
          "data": {
            "text/plain": [
              "pyspark.sql.dataframe.DataFrame"
            ]
          },
          "metadata": {},
          "execution_count": 36
        }
      ]
    },
    {
      "cell_type": "code",
      "metadata": {
        "colab": {
          "base_uri": "https://localhost:8080/"
        },
        "id": "89iiY38dBEOy",
        "outputId": "3a3eaf76-f7a6-4720-d1d1-48d45bf6de56"
      },
      "source": [
        "# Cheking out the data type of a column\n",
        "df_pyspark.columns\n"
      ],
      "execution_count": null,
      "outputs": [
        {
          "output_type": "execute_result",
          "data": {
            "text/plain": [
              "['Name', 'Age', 'Experience']"
            ]
          },
          "metadata": {},
          "execution_count": 37
        }
      ]
    },
    {
      "cell_type": "code",
      "metadata": {
        "colab": {
          "base_uri": "https://localhost:8080/"
        },
        "id": "4C1e_f9KECWD",
        "outputId": "19d02206-c26f-4ffb-c0b2-023ab040e351"
      },
      "source": [
        "df_pyspark.head(3)"
      ],
      "execution_count": null,
      "outputs": [
        {
          "output_type": "execute_result",
          "data": {
            "text/plain": [
              "[Row(Name='Chris', Age=30, Experience=10),\n",
              " Row(Name='Sam', Age=31, Experience=8),\n",
              " Row(Name='Dan', Age=29, Experience=4)]"
            ]
          },
          "metadata": {},
          "execution_count": 38
        }
      ]
    },
    {
      "cell_type": "code",
      "metadata": {
        "colab": {
          "base_uri": "https://localhost:8080/"
        },
        "id": "Mh4NGQNKEJJp",
        "outputId": "ace09d7d-ff11-4ebb-943d-a934633a3bcb"
      },
      "source": [
        "df_pyspark.show()"
      ],
      "execution_count": null,
      "outputs": [
        {
          "output_type": "stream",
          "name": "stdout",
          "text": [
            "+-----+---+----------+\n",
            "| Name|Age|Experience|\n",
            "+-----+---+----------+\n",
            "|Chris| 30|        10|\n",
            "|  Sam| 31|         8|\n",
            "|  Dan| 29|         4|\n",
            "+-----+---+----------+\n",
            "\n"
          ]
        }
      ]
    },
    {
      "cell_type": "code",
      "metadata": {
        "colab": {
          "base_uri": "https://localhost:8080/"
        },
        "id": "NDQkvqK_EQx6",
        "outputId": "a8a36374-34e7-4acb-e990-5e9cc5b9ddac"
      },
      "source": [
        "# select a column by it's name\n",
        "df_pyspark.select('Name').show()"
      ],
      "execution_count": null,
      "outputs": [
        {
          "output_type": "stream",
          "name": "stdout",
          "text": [
            "+-----+\n",
            "| Name|\n",
            "+-----+\n",
            "|Chris|\n",
            "|  Sam|\n",
            "|  Dan|\n",
            "+-----+\n",
            "\n"
          ]
        }
      ]
    },
    {
      "cell_type": "code",
      "metadata": {
        "colab": {
          "base_uri": "https://localhost:8080/"
        },
        "id": "PcEw0CpXElra",
        "outputId": "26b696ea-b5a4-4846-9eb4-7614f3384570"
      },
      "source": [
        "df_pyspark.select(['Name', 'Experience']).show()"
      ],
      "execution_count": null,
      "outputs": [
        {
          "output_type": "stream",
          "name": "stdout",
          "text": [
            "+-----+----------+\n",
            "| Name|Experience|\n",
            "+-----+----------+\n",
            "|Chris|        10|\n",
            "|  Sam|         8|\n",
            "|  Dan|         4|\n",
            "+-----+----------+\n",
            "\n"
          ]
        }
      ]
    },
    {
      "cell_type": "code",
      "metadata": {
        "colab": {
          "base_uri": "https://localhost:8080/"
        },
        "id": "B0S7IzouFXyN",
        "outputId": "8376b22b-ace2-45a1-e01b-e5d7b69ef700"
      },
      "source": [
        "# In pandas, this is what we'll usualy do to select a column. However, in PySpark, \n",
        "# this will only show the what the selection is. In this case, a columns.\n",
        "\n",
        "df_pyspark['Name']"
      ],
      "execution_count": null,
      "outputs": [
        {
          "output_type": "execute_result",
          "data": {
            "text/plain": [
              "Column<'Name'>"
            ]
          },
          "metadata": {},
          "execution_count": 44
        }
      ]
    },
    {
      "cell_type": "code",
      "metadata": {
        "colab": {
          "base_uri": "https://localhost:8080/"
        },
        "id": "LZfW07ZGF9DU",
        "outputId": "25b04aa2-1c1c-41df-f8ac-a06c78d9b940"
      },
      "source": [
        "#  Chek data types\n",
        "df_pyspark.dtypes"
      ],
      "execution_count": null,
      "outputs": [
        {
          "output_type": "execute_result",
          "data": {
            "text/plain": [
              "[('Name', 'string'), ('Age', 'int'), ('Experience', 'int')]"
            ]
          },
          "metadata": {},
          "execution_count": 45
        }
      ]
    },
    {
      "cell_type": "code",
      "metadata": {
        "colab": {
          "base_uri": "https://localhost:8080/"
        },
        "id": "fiUFjYbuHl3X",
        "outputId": "96c516f6-bb31-45da-9e84-bea687a2346e"
      },
      "source": [
        "# Only describes the dataframe and what kind of class each column belongs to\n",
        "df_pyspark.describe()"
      ],
      "execution_count": null,
      "outputs": [
        {
          "output_type": "execute_result",
          "data": {
            "text/plain": [
              "DataFrame[summary: string, Name: string, Age: string, Experience: string]"
            ]
          },
          "metadata": {},
          "execution_count": 46
        }
      ]
    },
    {
      "cell_type": "code",
      "metadata": {
        "colab": {
          "base_uri": "https://localhost:8080/"
        },
        "id": "Gc_ueGXqHwbv",
        "outputId": "56e31833-c1a2-4b18-c0c7-8891061276bd"
      },
      "source": [
        "# Same description achieved with pandas through the 'describe' command\n",
        "df_pyspark.describe().show()"
      ],
      "execution_count": null,
      "outputs": [
        {
          "output_type": "stream",
          "name": "stdout",
          "text": [
            "+-------+-----+----+-----------------+\n",
            "|summary| Name| Age|       Experience|\n",
            "+-------+-----+----+-----------------+\n",
            "|  count|    3|   3|                3|\n",
            "|   mean| null|30.0|7.333333333333333|\n",
            "| stddev| null| 1.0|3.055050463303893|\n",
            "|    min|Chris|  29|                4|\n",
            "|    max|  Sam|  31|               10|\n",
            "+-------+-----+----+-----------------+\n",
            "\n"
          ]
        }
      ]
    },
    {
      "cell_type": "code",
      "metadata": {
        "colab": {
          "base_uri": "https://localhost:8080/"
        },
        "id": "F69QocW3Hzh3",
        "outputId": "6496b013-3aeb-4bec-dadd-88dbfaaddd28"
      },
      "source": [
        "#  Adding columns in a data frame\n",
        "df_pyspark = df_pyspark.withColumn('Experience After 2 years', df_pyspark['Experience']+2)\n",
        "df_pyspark"
      ],
      "execution_count": null,
      "outputs": [
        {
          "output_type": "execute_result",
          "data": {
            "text/plain": [
              "DataFrame[Name: string, Age: int, Experience: int, Experience After 2 years: int]"
            ]
          },
          "metadata": {},
          "execution_count": 54
        }
      ]
    },
    {
      "cell_type": "code",
      "metadata": {
        "colab": {
          "base_uri": "https://localhost:8080/"
        },
        "id": "e7zXGcB8KURK",
        "outputId": "a722832e-1d25-4b1b-c539-64a80a866342"
      },
      "source": [
        "df_pyspark.show()"
      ],
      "execution_count": null,
      "outputs": [
        {
          "output_type": "stream",
          "name": "stdout",
          "text": [
            "+-----+---+----------+------------------------+\n",
            "| Name|Age|Experience|Experience After 2 years|\n",
            "+-----+---+----------+------------------------+\n",
            "|Chris| 30|        10|                      12|\n",
            "|  Sam| 31|         8|                      10|\n",
            "|  Dan| 29|         4|                       6|\n",
            "+-----+---+----------+------------------------+\n",
            "\n"
          ]
        }
      ]
    },
    {
      "cell_type": "code",
      "metadata": {
        "colab": {
          "base_uri": "https://localhost:8080/"
        },
        "id": "-s_DExM7LXpB",
        "outputId": "4d295327-0f60-45cf-9eac-e18d91b361df"
      },
      "source": [
        "#  Drop a column\n",
        "df_pyspark.drop('Experience After 2 years').show()"
      ],
      "execution_count": null,
      "outputs": [
        {
          "output_type": "stream",
          "name": "stdout",
          "text": [
            "+-----+---+----------+\n",
            "| Name|Age|Experience|\n",
            "+-----+---+----------+\n",
            "|Chris| 30|        10|\n",
            "|  Sam| 31|         8|\n",
            "|  Dan| 29|         4|\n",
            "+-----+---+----------+\n",
            "\n"
          ]
        }
      ]
    },
    {
      "cell_type": "code",
      "metadata": {
        "colab": {
          "base_uri": "https://localhost:8080/"
        },
        "id": "8VVtIexiLqHo",
        "outputId": "635a7472-70b7-49e5-d801-bdaeb6b45ea5"
      },
      "source": [
        "# Rename the columns\n",
        "df_pyspark.withColumnRenamed('Name', 'New Name').show()"
      ],
      "execution_count": null,
      "outputs": [
        {
          "output_type": "stream",
          "name": "stdout",
          "text": [
            "+--------+---+----------+------------------------+\n",
            "|New Name|Age|Experience|Experience After 2 years|\n",
            "+--------+---+----------+------------------------+\n",
            "|   Chris| 30|        10|                      12|\n",
            "|     Sam| 31|         8|                      10|\n",
            "|     Dan| 29|         4|                       6|\n",
            "+--------+---+----------+------------------------+\n",
            "\n"
          ]
        }
      ]
    }
  ]
}